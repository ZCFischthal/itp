{
 "cells": [
  {
   "cell_type": "code",
   "execution_count": 11,
   "id": "8046b378-0a6b-4760-9e9e-67307d194a46",
   "metadata": {},
   "outputs": [],
   "source": [
    "import sqlite3"
   ]
  },
  {
   "cell_type": "code",
   "execution_count": 12,
   "id": "86c5bd94-fc1b-41d3-a759-f9ac79551267",
   "metadata": {},
   "outputs": [],
   "source": [
    "conn = sqlite3.connect('animeList.db')"
   ]
  },
  {
   "cell_type": "code",
   "execution_count": 13,
   "id": "d4af65c1-f804-4343-92d6-ef00ffff7265",
   "metadata": {},
   "outputs": [],
   "source": [
    "cur = conn.cursor();"
   ]
  },
  {
   "cell_type": "code",
   "execution_count": 14,
   "id": "f6d54fa7-93d1-4888-b651-3df1739fc092",
   "metadata": {},
   "outputs": [],
   "source": [
    "res = cur.execute(\"SELECT name FROM sqlite_master\")"
   ]
  },
  {
   "cell_type": "code",
   "execution_count": 15,
   "id": "2ccd3f43-08ae-403a-ae9d-51b4e374a1c0",
   "metadata": {},
   "outputs": [
    {
     "data": {
      "text/plain": [
       "('anime',)"
      ]
     },
     "execution_count": 15,
     "metadata": {},
     "output_type": "execute_result"
    }
   ],
   "source": [
    "res.fetchone()"
   ]
  },
  {
   "cell_type": "code",
   "execution_count": 16,
   "id": "7d75cb44-cb8b-4a06-aba5-1cf6640432fb",
   "metadata": {},
   "outputs": [
    {
     "data": {
      "text/plain": [
       "<sqlite3.Cursor at 0x12256b740>"
      ]
     },
     "execution_count": 16,
     "metadata": {},
     "output_type": "execute_result"
    }
   ],
   "source": [
    "cur.execute(\"\"\"\n",
    "    INSERT INTO anime (title, genre) VALUES\n",
    "    ('Kemono Jihen', 'Action'),\n",
    "    ('Mob Psycho 100', 'Action Comedy')\n",
    "\"\"\")"
   ]
  },
  {
   "cell_type": "code",
   "execution_count": 21,
   "id": "018b5e0f-9ab2-433c-b991-8afbe998a459",
   "metadata": {},
   "outputs": [],
   "source": [
    "res = cur.execute(\"SELECT title FROM anime\")"
   ]
  },
  {
   "cell_type": "code",
   "execution_count": 22,
   "id": "99804fa6-6245-4d8c-8a7e-a7b84279a9d1",
   "metadata": {},
   "outputs": [
    {
     "data": {
      "text/plain": [
       "[('Kemono Jihen',), ('Mob Psycho 100',), ('birdie wing',)]"
      ]
     },
     "execution_count": 22,
     "metadata": {},
     "output_type": "execute_result"
    }
   ],
   "source": [
    "res.fetchall()"
   ]
  },
  {
   "cell_type": "code",
   "execution_count": 19,
   "id": "442c2214-ffb4-4ad6-b255-4107843a7a0c",
   "metadata": {},
   "outputs": [
    {
     "name": "stdin",
     "output_type": "stream",
     "text": [
      "Title:  birdie wing\n"
     ]
    }
   ],
   "source": [
    "myTitle = input(\"Title: \")"
   ]
  },
  {
   "cell_type": "code",
   "execution_count": 20,
   "id": "7e3c9683-c823-47a8-b5d6-b75e752769bc",
   "metadata": {},
   "outputs": [
    {
     "data": {
      "text/plain": [
       "<sqlite3.Cursor at 0x12256a8c0>"
      ]
     },
     "execution_count": 20,
     "metadata": {},
     "output_type": "execute_result"
    }
   ],
   "source": [
    "script = \"INSERT INTO anime (title) VALUES (?)\";\n",
    "conn.execute(script, (myTitle,))"
   ]
  },
  {
   "cell_type": "code",
   "execution_count": null,
   "id": "2e0fafd6-1100-4d1a-bcb7-56644fe74a4e",
   "metadata": {},
   "outputs": [],
   "source": []
  }
 ],
 "metadata": {
  "kernelspec": {
   "display_name": "Python 3 (ipykernel)",
   "language": "python",
   "name": "python3"
  },
  "language_info": {
   "codemirror_mode": {
    "name": "ipython",
    "version": 3
   },
   "file_extension": ".py",
   "mimetype": "text/x-python",
   "name": "python",
   "nbconvert_exporter": "python",
   "pygments_lexer": "ipython3",
   "version": "3.13.2"
  }
 },
 "nbformat": 4,
 "nbformat_minor": 5
}
