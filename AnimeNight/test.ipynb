{
 "cells": [
  {
   "cell_type": "code",
   "execution_count": null,
   "id": "046c750a-c45e-406b-859e-2336ae82f5a2",
   "metadata": {},
   "outputs": [],
   "source": [
    "import tkinter as tk\n",
    "\n",
    "root = tk.Tk()\n",
    "root.title(\"Frame Demo\")\n",
    "root.config(bg=\"skyblue\")\n",
    "\n",
    "# Create Frame widget\n",
    "frame = tk.Frame(root, width=200, height=200)\n",
    "frame.pack(padx=10, pady=10)\n",
    "\n",
    "root.mainloop()"
   ]
  },
  {
   "cell_type": "code",
   "execution_count": null,
   "id": "588114c5-6aa3-4576-aab2-b25d8f724198",
   "metadata": {},
   "outputs": [],
   "source": [
    "import tkinter as tk\n",
    "\n",
    "root = tk.Tk()\n",
    "root.title(\"Nested Frames\")\n",
    "root.config(bg=\"skyblue\")\n",
    "\n",
    "frame = tk.Frame(root, width=200, height=200)\n",
    "frame.pack(padx=10, pady=10)\n",
    "\n",
    "nested_frame = tk.Frame(frame, width=190, height=190, bg=\"red\")\n",
    "nested_frame.pack(padx=10, pady=10)\n",
    "\n",
    "root.mainloop()"
   ]
  },
  {
   "cell_type": "code",
   "execution_count": 1,
   "id": "57587965-f2be-4617-9253-8c42f6dee57d",
   "metadata": {},
   "outputs": [],
   "source": [
    "import tkinter as tk\n",
    "\n",
    "root = tk.Tk()  # Create the main window\n",
    "\n",
    "# Create a TV remote UI\n",
    "turn_on = tk.Button(root, text=\"ON\")\n",
    "turn_on.pack()\n",
    "\n",
    "turn_off = tk.Button(root, text=\"OFF\", command=root.destroy)\n",
    "turn_off.pack()\n",
    "\n",
    "volume = tk.Label(root, text=\"VOLUME\")\n",
    "volume.pack()\n",
    "\n",
    "vol_up = tk.Button(root, text=\"+\")\n",
    "vol_up.pack()\n",
    "\n",
    "vol_down = tk.Button(root, text=\"-\")\n",
    "vol_down.pack()\n",
    "\n",
    "root.mainloop()"
   ]
  },
  {
   "cell_type": "code",
   "execution_count": null,
   "id": "c1691258-f04f-447c-99a6-59f529e11287",
   "metadata": {},
   "outputs": [],
   "source": []
  }
 ],
 "metadata": {
  "kernelspec": {
   "display_name": "Python 3 (ipykernel)",
   "language": "python",
   "name": "python3"
  },
  "language_info": {
   "codemirror_mode": {
    "name": "ipython",
    "version": 3
   },
   "file_extension": ".py",
   "mimetype": "text/x-python",
   "name": "python",
   "nbconvert_exporter": "python",
   "pygments_lexer": "ipython3",
   "version": "3.13.2"
  }
 },
 "nbformat": 4,
 "nbformat_minor": 5
}
